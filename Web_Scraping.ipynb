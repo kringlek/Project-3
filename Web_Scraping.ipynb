{
 "cells": [
  {
   "cell_type": "code",
   "execution_count": 21,
   "id": "d90f6145",
   "metadata": {
    "scrolled": true
   },
   "outputs": [
    {
     "name": "stdout",
     "output_type": "stream",
     "text": [
      "Requirement already satisfied: splinter in /Users/anishachaudhari/.local/lib/python3.9/site-packages (0.18.1)\n",
      "Requirement already satisfied: Browser in /Users/anishachaudhari/.local/lib/python3.9/site-packages (0.0.1)\n",
      "Requirement already satisfied: PyVirtualDisplay==0.2.4 in /Users/anishachaudhari/.local/lib/python3.9/site-packages (from Browser) (0.2.4)\n",
      "Requirement already satisfied: selenium==3.141.0 in /Users/anishachaudhari/.local/lib/python3.9/site-packages (from Browser) (3.141.0)\n",
      "Requirement already satisfied: lxml==4.5.0 in /Users/anishachaudhari/.local/lib/python3.9/site-packages (from Browser) (4.5.0)\n",
      "Requirement already satisfied: cssselect==1.0.3 in /Users/anishachaudhari/.local/lib/python3.9/site-packages (from Browser) (1.0.3)\n",
      "Requirement already satisfied: EasyProcess in /Users/anishachaudhari/.local/lib/python3.9/site-packages (from PyVirtualDisplay==0.2.4->Browser) (1.1)\n",
      "Requirement already satisfied: urllib3 in /opt/anaconda3/lib/python3.9/site-packages (from selenium==3.141.0->Browser) (1.26.7)\n",
      "Requirement already satisfied: webdriver-manager in /Users/anishachaudhari/.local/lib/python3.9/site-packages (3.8.3)\n",
      "Requirement already satisfied: python-dotenv in /Users/anishachaudhari/.local/lib/python3.9/site-packages (from webdriver-manager) (0.21.0)\n",
      "Requirement already satisfied: requests in /opt/anaconda3/lib/python3.9/site-packages (from webdriver-manager) (2.26.0)\n",
      "Requirement already satisfied: tqdm in /opt/anaconda3/lib/python3.9/site-packages (from webdriver-manager) (4.62.3)\n",
      "Requirement already satisfied: urllib3<1.27,>=1.21.1 in /opt/anaconda3/lib/python3.9/site-packages (from requests->webdriver-manager) (1.26.7)\n",
      "Requirement already satisfied: certifi>=2017.4.17 in /opt/anaconda3/lib/python3.9/site-packages (from requests->webdriver-manager) (2021.10.8)\n",
      "Requirement already satisfied: charset-normalizer~=2.0.0 in /opt/anaconda3/lib/python3.9/site-packages (from requests->webdriver-manager) (2.0.4)\n",
      "Requirement already satisfied: idna<4,>=2.5 in /opt/anaconda3/lib/python3.9/site-packages (from requests->webdriver-manager) (3.2)\n",
      "Requirement already satisfied: beautifulsoup4 in /opt/anaconda3/lib/python3.9/site-packages (4.10.0)\n",
      "Requirement already satisfied: soupsieve>1.2 in /opt/anaconda3/lib/python3.9/site-packages (from beautifulsoup4) (2.2.1)\n"
     ]
    }
   ],
   "source": [
    "! pip install splinter --user\n",
    "! pip install Browser --user\n",
    "! pip install webdriver-manager --user\n",
    "! pip install beautifulsoup4 --user\n"
   ]
  },
  {
   "cell_type": "code",
   "execution_count": 22,
   "id": "ca8c9735",
   "metadata": {},
   "outputs": [],
   "source": [
    "from turtle import pd\n",
    "from splinter import Browser\n",
    "from bs4 import BeautifulSoup as bs\n",
    "import time\n",
    "from webdriver_manager.chrome import ChromeDriverManager\n",
    "import re\n",
    "import pandas as pd\n",
    "import numpy as np\n",
    "\n",
    "def scrape_gifs():      \n",
    "        # Set up Splinter\n",
    "    executable_path = {'executable_path': ChromeDriverManager().install()}\n",
    "    browser = Browser('chrome', **executable_path, headless=False)\n",
    "\n",
    "    url = \"https://bmcnoldy.rsmas.miami.edu/tropics/radar/\"\n",
    "    browser.visit(url)\n",
    "\n",
    "    time.sleep(1)\n",
    "\n",
    "    # Scrape page into Soup\n",
    "    html = browser.html\n",
    "    soup = bs(html, \"html.parser\")"
   ]
  },
  {
   "cell_type": "code",
   "execution_count": 23,
   "id": "7495d0f8",
   "metadata": {},
   "outputs": [],
   "source": [
    "def scrape_gifs():      \n",
    "        # Set up Splinter\n",
    "    executable_path = {'executable_path': ChromeDriverManager().install()}\n",
    "    browser = Browser('chrome', **executable_path, headless=False)\n",
    "\n",
    "    url = \"https://bmcnoldy.rsmas.miami.edu/tropics/radar/\"\n",
    "    browser.visit(url)\n",
    "\n",
    "    time.sleep(1)\n",
    "\n",
    "    # Scrape page into Soup\n",
    "    html = browser.html\n",
    "    soup = bs(html, \"html.parser\")"
   ]
  },
  {
   "cell_type": "code",
   "execution_count": 24,
   "id": "ae4b7f04",
   "metadata": {},
   "outputs": [],
   "source": [
    "#Read in Data from CSV\n",
    "hurricane_csv = \"Data/hurricane_clean_dataset.csv\"\n",
    "hurricane_data = pd.read_csv(hurricane_csv)\n",
    "hurricane_data.head()\n",
    "df1 = hurricane_data\n",
    "nums = '\\d+'"
   ]
  },
  {
   "cell_type": "code",
   "execution_count": 25,
   "id": "b7da0796",
   "metadata": {},
   "outputs": [
    {
     "ename": "NameError",
     "evalue": "name 'soup' is not defined",
     "output_type": "error",
     "traceback": [
      "\u001b[0;31m---------------------------------------------------------------------------\u001b[0m",
      "\u001b[0;31mNameError\u001b[0m                                 Traceback (most recent call last)",
      "\u001b[0;32m/var/folders/lk/dw3l6l794gq9cj5r7gnp3r3w0000gp/T/ipykernel_98173/1410051832.py\u001b[0m in \u001b[0;36m<module>\u001b[0;34m\u001b[0m\n\u001b[1;32m      1\u001b[0m \u001b[0;31m# for loop for getting all of the hrefs on the page and filtering to only return the .gifs\u001b[0m\u001b[0;34m\u001b[0m\u001b[0;34m\u001b[0m\u001b[0m\n\u001b[1;32m      2\u001b[0m \u001b[0mhref_array\u001b[0m \u001b[0;34m=\u001b[0m \u001b[0;34m[\u001b[0m\u001b[0;34m]\u001b[0m\u001b[0;34m\u001b[0m\u001b[0;34m\u001b[0m\u001b[0m\n\u001b[0;32m----> 3\u001b[0;31m \u001b[0;32mfor\u001b[0m \u001b[0mlink\u001b[0m \u001b[0;32min\u001b[0m \u001b[0msoup\u001b[0m\u001b[0;34m.\u001b[0m\u001b[0mfind_all\u001b[0m\u001b[0;34m(\u001b[0m\u001b[0;34m'a'\u001b[0m\u001b[0;34m,\u001b[0m \u001b[0mattrs\u001b[0m\u001b[0;34m=\u001b[0m\u001b[0;34m{\u001b[0m\u001b[0;34m'href'\u001b[0m\u001b[0;34m:\u001b[0m \u001b[0mre\u001b[0m\u001b[0;34m.\u001b[0m\u001b[0mcompile\u001b[0m\u001b[0;34m(\u001b[0m\u001b[0;34m\"^tropics\"\u001b[0m\u001b[0;34m)\u001b[0m\u001b[0;34m}\u001b[0m\u001b[0;34m)\u001b[0m\u001b[0;34m:\u001b[0m\u001b[0;34m\u001b[0m\u001b[0;34m\u001b[0m\u001b[0m\n\u001b[0m\u001b[1;32m      4\u001b[0m     \u001b[0mhref_array\u001b[0m\u001b[0;34m.\u001b[0m\u001b[0mappend\u001b[0m\u001b[0;34m(\u001b[0m\u001b[0mlink\u001b[0m\u001b[0;34m.\u001b[0m\u001b[0mget\u001b[0m\u001b[0;34m(\u001b[0m\u001b[0;34m'href'\u001b[0m\u001b[0;34m)\u001b[0m\u001b[0;34m)\u001b[0m\u001b[0;34m\u001b[0m\u001b[0;34m\u001b[0m\u001b[0m\n\u001b[1;32m      5\u001b[0m     \u001b[0;31m# if WHATEVER does not end in '.gif' drop from array\u001b[0m\u001b[0;34m\u001b[0m\u001b[0;34m\u001b[0m\u001b[0m\n",
      "\u001b[0;31mNameError\u001b[0m: name 'soup' is not defined"
     ]
    }
   ],
   "source": [
    "# for loop for getting all of the hrefs on the page and filtering to only return the .gifs\n",
    "href_array = []\n",
    "for link in soup.find_all('a', attrs={'href': re.compile(\"^tropics\")}):\n",
    "    href_array.append(link.get('href'))\n",
    "    # if WHATEVER does not end in '.gif' drop from array\n",
    "\n",
    "    # print(href_array)\n",
    "\n",
    "    df = pd.DataFrame(href_array, columns=['gif_url']) \n",
    "\n",
    "    df['id'] = df.index + 1\n",
    "\n",
    "    gif_df = df[df['gif_url'].str.endswith('.gif')]\n",
    "\n",
    "    # gif_df[\"id\"] = gif_df.index\n",
    "\n",
    "print(gif_df)"
   ]
  },
  {
   "cell_type": "code",
   "execution_count": 27,
   "id": "5c70a08e",
   "metadata": {},
   "outputs": [
    {
     "ename": "NameError",
     "evalue": "name 'browser' is not defined",
     "output_type": "error",
     "traceback": [
      "\u001b[0;31m---------------------------------------------------------------------------\u001b[0m",
      "\u001b[0;31mNameError\u001b[0m                                 Traceback (most recent call last)",
      "\u001b[0;32m/var/folders/lk/dw3l6l794gq9cj5r7gnp3r3w0000gp/T/ipykernel_98173/460613361.py\u001b[0m in \u001b[0;36m<module>\u001b[0;34m\u001b[0m\n\u001b[1;32m      5\u001b[0m     \u001b[0;31m#         472, 475, 482, 485, 487, 490, 492, 497, 498, 499, 503],axis=0))\u001b[0m\u001b[0;34m\u001b[0m\u001b[0;34m\u001b[0m\u001b[0m\n\u001b[1;32m      6\u001b[0m \u001b[0;34m\u001b[0m\u001b[0m\n\u001b[0;32m----> 7\u001b[0;31m \u001b[0mbrowser\u001b[0m\u001b[0;34m.\u001b[0m\u001b[0mquit\u001b[0m\u001b[0;34m(\u001b[0m\u001b[0;34m)\u001b[0m\u001b[0;34m\u001b[0m\u001b[0;34m\u001b[0m\u001b[0m\n\u001b[0m\u001b[1;32m      8\u001b[0m \u001b[0;34m\u001b[0m\u001b[0m\n\u001b[1;32m      9\u001b[0m \u001b[0mscrape_gifs\u001b[0m\u001b[0;34m(\u001b[0m\u001b[0;34m)\u001b[0m\u001b[0;34m\u001b[0m\u001b[0;34m\u001b[0m\u001b[0m\n",
      "\u001b[0;31mNameError\u001b[0m: name 'browser' is not defined"
     ]
    }
   ],
   "source": [
    "        # gif_df.filter(items=[0, 24, 100, 107, 110, 128, 159, 191, 194, 449, 462, 465,472,\n",
    "        #     475, 482, 485, 487, 490, 492, 497, 498, 499, 503] ,axis=0)\n",
    "    \n",
    "    # print(gif_df.filter(items=[0, 24, 100, 107, 110, 128, 159, 191, 194, 449, 462, 465,\n",
    "    #         472, 475, 482, 485, 487, 490, 492, 497, 498, 499, 503],axis=0))\n",
    "\n",
    "browser.quit()\n",
    "\n",
    "scrape_gifs()"
   ]
  },
  {
   "cell_type": "code",
   "execution_count": null,
   "id": "7dd39cac",
   "metadata": {},
   "outputs": [],
   "source": []
  }
 ],
 "metadata": {
  "kernelspec": {
   "display_name": "Python 3 (ipykernel)",
   "language": "python",
   "name": "python3"
  },
  "language_info": {
   "codemirror_mode": {
    "name": "ipython",
    "version": 3
   },
   "file_extension": ".py",
   "mimetype": "text/x-python",
   "name": "python",
   "nbconvert_exporter": "python",
   "pygments_lexer": "ipython3",
   "version": "3.9.7"
  },
  "vscode": {
   "interpreter": {
    "hash": "31f2aee4e71d21fbe5cf8b01ff0e069b9275f58929596ceb00d14d90e3e16cd6"
   }
  }
 },
 "nbformat": 4,
 "nbformat_minor": 5
}
