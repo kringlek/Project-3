{
 "cells": [
  {
   "cell_type": "code",
   "execution_count": 1,
   "id": "ca8c9735",
   "metadata": {},
   "outputs": [],
   "source": [
    "# import dependencies\n",
    "from splinter import Browser\n",
    "from bs4 import BeautifulSoup as bs\n",
    "import time\n",
    "from webdriver_manager.chrome import ChromeDriverManager\n",
    "import csv"
   ]
  },
  {
   "cell_type": "code",
   "execution_count": null,
   "id": "7495d0f8",
   "metadata": {},
   "outputs": [],
   "source": [
    "def scrape_gifs():      \n",
    "        # Set up Splinter\n",
    "    executable_path = {'executable_path': ChromeDriverManager().install()}\n",
    "    browser = Browser('chrome', **executable_path, headless=False)\n",
    "\n",
    "    url = \"https://bmcnoldy.rsmas.miami.edu/tropics/radar/\"\n",
    "    browser.visit(url)\n",
    "\n",
    "    time.sleep(1)\n",
    "\n",
    "    # Scrape page into Soup\n",
    "    html = browser.html\n",
    "    soup = bs(html, \"html.parser\")\n",
    "\n",
    "    hurricanes = [1, 2, 3, 4, 5]\n",
    "    for hurricane in hurricanes:\n",
    "\n",
    "        hurricane_list = soup.find(id=True)\n",
    "\n",
    "        hurricane_container = hurricane_list.find_next_sibling(\"ul\")\n",
    "\n",
    "        list = hurricane_container.find('a')['href']\n",
    "\n",
    "        gif_url = \"https://bmcnoldy.rsmas.miami.edu/\" + list\n",
    "\n",
    "        print(gif_url)\n",
    "\n",
    "scrape_gifs()"
   ]
  }
 ],
 "metadata": {
  "kernelspec": {
   "display_name": "Python 3.9.6 64-bit",
   "language": "python",
   "name": "python3"
  },
  "language_info": {
   "codemirror_mode": {
    "name": "ipython",
    "version": 3
   },
   "file_extension": ".py",
   "mimetype": "text/x-python",
   "name": "python",
   "nbconvert_exporter": "python",
   "pygments_lexer": "ipython3",
   "version": "3.9.6"
  },
  "vscode": {
   "interpreter": {
    "hash": "31f2aee4e71d21fbe5cf8b01ff0e069b9275f58929596ceb00d14d90e3e16cd6"
   }
  }
 },
 "nbformat": 4,
 "nbformat_minor": 5
}
