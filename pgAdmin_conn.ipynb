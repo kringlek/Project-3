{
 "cells": [
  {
   "cell_type": "code",
   "execution_count": 4,
   "id": "1fc085ed",
   "metadata": {},
   "outputs": [],
   "source": [
    "#Import Dependencies pgAdmin\n",
    "import pandas as pd\n",
    "from Resources import connection"
   ]
  },
  {
   "cell_type": "code",
   "execution_count": null,
   "id": "cc425aee",
   "metadata": {},
   "outputs": [],
   "source": [
    "import numpy as np\n",
    "from datetime import datetime as dt\n",
    "from matplotlib import style\n",
    "style.use('fivethirtyeight')\n",
    "import matplotlib.pyplot as plt"
   ]
  },
  {
   "cell_type": "code",
   "execution_count": null,
   "id": "c7b64342",
   "metadata": {},
   "outputs": [],
   "source": [
    "# Python SQL toolkit and Object Relational Mapper\n",
    "import sqlalchemy\n",
    "from sqlalchemy.ext.automap import automap_base\n",
    "from sqlalchemy.orm import Session\n",
    "from sqlalchemy import create_engine, func\n",
    "from sqlalchemy import and_"
   ]
  },
  {
   "cell_type": "code",
   "execution_count": 5,
   "id": "997e62e7",
   "metadata": {},
   "outputs": [
    {
     "data": {
      "text/html": [
       "<div>\n",
       "<style scoped>\n",
       "    .dataframe tbody tr th:only-of-type {\n",
       "        vertical-align: middle;\n",
       "    }\n",
       "\n",
       "    .dataframe tbody tr th {\n",
       "        vertical-align: top;\n",
       "    }\n",
       "\n",
       "    .dataframe thead th {\n",
       "        text-align: right;\n",
       "    }\n",
       "</style>\n",
       "<table border=\"1\" class=\"dataframe\">\n",
       "  <thead>\n",
       "    <tr style=\"text-align: right;\">\n",
       "      <th></th>\n",
       "      <th>Name</th>\n",
       "      <th>Areas affected</th>\n",
       "      <th>Month</th>\n",
       "      <th>Day</th>\n",
       "      <th>Year</th>\n",
       "      <th>Wind Speed (mph)</th>\n",
       "      <th>Pressure (hPa)</th>\n",
       "      <th>Damages ($)</th>\n",
       "      <th>Deaths</th>\n",
       "      <th>lat</th>\n",
       "      <th>long</th>\n",
       "      <th>category</th>\n",
       "    </tr>\n",
       "  </thead>\n",
       "  <tbody>\n",
       "    <tr>\n",
       "      <th>0</th>\n",
       "      <td>Janet</td>\n",
       "      <td>Lesser Antilles, Central America</td>\n",
       "      <td>September</td>\n",
       "      <td>27</td>\n",
       "      <td>1955</td>\n",
       "      <td>175</td>\n",
       "      <td>914</td>\n",
       "      <td>6.580000e+07</td>\n",
       "      <td>1023</td>\n",
       "      <td>17.3</td>\n",
       "      <td>-83.0</td>\n",
       "      <td>4.0</td>\n",
       "    </tr>\n",
       "    <tr>\n",
       "      <th>1</th>\n",
       "      <td>Inez</td>\n",
       "      <td>Greater Antilles, Florida, Mexico</td>\n",
       "      <td>September</td>\n",
       "      <td>28</td>\n",
       "      <td>1966</td>\n",
       "      <td>165</td>\n",
       "      <td>927</td>\n",
       "      <td>2.290000e+08</td>\n",
       "      <td>756</td>\n",
       "      <td>16.3</td>\n",
       "      <td>-63.0</td>\n",
       "      <td>3.0</td>\n",
       "    </tr>\n",
       "    <tr>\n",
       "      <th>2</th>\n",
       "      <td>Inez</td>\n",
       "      <td>Greater Antilles, Florida, Mexico</td>\n",
       "      <td>September</td>\n",
       "      <td>28</td>\n",
       "      <td>1966</td>\n",
       "      <td>165</td>\n",
       "      <td>927</td>\n",
       "      <td>2.290000e+08</td>\n",
       "      <td>756</td>\n",
       "      <td>16.5</td>\n",
       "      <td>-64.4</td>\n",
       "      <td>4.0</td>\n",
       "    </tr>\n",
       "    <tr>\n",
       "      <th>3</th>\n",
       "      <td>Inez</td>\n",
       "      <td>Greater Antilles, Florida, Mexico</td>\n",
       "      <td>September</td>\n",
       "      <td>28</td>\n",
       "      <td>1966</td>\n",
       "      <td>165</td>\n",
       "      <td>927</td>\n",
       "      <td>2.290000e+08</td>\n",
       "      <td>756</td>\n",
       "      <td>17.0</td>\n",
       "      <td>-67.2</td>\n",
       "      <td>5.0</td>\n",
       "    </tr>\n",
       "    <tr>\n",
       "      <th>4</th>\n",
       "      <td>Camille</td>\n",
       "      <td>Cuba, United States Gulf Coast</td>\n",
       "      <td>August</td>\n",
       "      <td>16</td>\n",
       "      <td>1969</td>\n",
       "      <td>175</td>\n",
       "      <td>900</td>\n",
       "      <td>1.420000e+09</td>\n",
       "      <td>259</td>\n",
       "      <td>24.3</td>\n",
       "      <td>-86.6</td>\n",
       "      <td>5.0</td>\n",
       "    </tr>\n",
       "  </tbody>\n",
       "</table>\n",
       "</div>"
      ],
      "text/plain": [
       "      Name                     Areas affected      Month  Day  Year  \\\n",
       "0    Janet   Lesser Antilles, Central America  September   27  1955   \n",
       "1     Inez  Greater Antilles, Florida, Mexico  September   28  1966   \n",
       "2     Inez  Greater Antilles, Florida, Mexico  September   28  1966   \n",
       "3     Inez  Greater Antilles, Florida, Mexico  September   28  1966   \n",
       "4  Camille     Cuba, United States Gulf Coast     August   16  1969   \n",
       "\n",
       "   Wind Speed (mph) Pressure (hPa)   Damages ($)  Deaths   lat  long  category  \n",
       "0               175            914  6.580000e+07    1023  17.3 -83.0       4.0  \n",
       "1               165            927  2.290000e+08     756  16.3 -63.0       3.0  \n",
       "2               165            927  2.290000e+08     756  16.5 -64.4       4.0  \n",
       "3               165            927  2.290000e+08     756  17.0 -67.2       5.0  \n",
       "4               175            900  1.420000e+09     259  24.3 -86.6       5.0  "
      ]
     },
     "execution_count": 5,
     "metadata": {},
     "output_type": "execute_result"
    }
   ],
   "source": [
    "#Read in Data\n",
    "hurricane_file = \"Data/attempted_merge.csv\"\n",
    "hurricane_df = pd.read_csv(hurricane_file, index_col=[0])\n",
    "hurricane_df.head()"
   ]
  },
  {
   "cell_type": "code",
   "execution_count": 6,
   "id": "051cf023",
   "metadata": {},
   "outputs": [],
   "source": [
    "#Connect to database using AWL\n",
    "connection_string = connection\n",
    "engine = create_engine(f'postgresql://{connection_string}')"
   ]
  },
  {
   "cell_type": "code",
   "execution_count": 7,
   "id": "f427eb8e",
   "metadata": {},
   "outputs": [
    {
     "name": "stderr",
     "output_type": "stream",
     "text": [
      "C:\\Users\\COOPERKK\\AppData\\Local\\Temp\\ipykernel_28852\\1446501580.py:2: SADeprecationWarning: The Engine.table_names() method is deprecated and will be removed in a future release.  Please refer to Inspector.get_table_names(). (deprecated since: 1.4)\n",
      "  engine.table_names()\n"
     ]
    },
    {
     "data": {
      "text/plain": [
       "['hurricane_info']"
      ]
     },
     "execution_count": 7,
     "metadata": {},
     "output_type": "execute_result"
    }
   ],
   "source": [
    "#Check connection\n",
    "engine.table_names()"
   ]
  },
  {
   "cell_type": "code",
   "execution_count": 9,
   "id": "bf413c67",
   "metadata": {},
   "outputs": [],
   "source": [
    "#Insert data to DB\n",
    "hurricane_df.to_sql(name='hurricane_info', con=engine, if_exists='append', index=False)"
   ]
  },
  {
   "cell_type": "code",
   "execution_count": null,
   "id": "92003ea7",
   "metadata": {},
   "outputs": [],
   "source": []
  }
 ],
 "metadata": {
  "kernelspec": {
   "display_name": "Python 3.9.6 64-bit",
   "language": "python",
   "name": "python3"
  },
  "language_info": {
   "codemirror_mode": {
    "name": "ipython",
    "version": 3
   },
   "file_extension": ".py",
   "mimetype": "text/x-python",
   "name": "python",
   "nbconvert_exporter": "python",
   "pygments_lexer": "ipython3",
   "version": "3.9.6"
  },
  "vscode": {
   "interpreter": {
    "hash": "31f2aee4e71d21fbe5cf8b01ff0e069b9275f58929596ceb00d14d90e3e16cd6"
   }
  }
 },
 "nbformat": 4,
 "nbformat_minor": 5
}
